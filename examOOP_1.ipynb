{
  "nbformat": 4,
  "nbformat_minor": 0,
  "metadata": {
    "colab": {
      "provenance": [],
      "authorship_tag": "ABX9TyPc2mJF43FczqIPh/ufai/C",
      "include_colab_link": true
    },
    "kernelspec": {
      "name": "python3",
      "display_name": "Python 3"
    },
    "language_info": {
      "name": "python"
    }
  },
  "cells": [
    {
      "cell_type": "markdown",
      "metadata": {
        "id": "view-in-github",
        "colab_type": "text"
      },
      "source": [
        "<a href=\"https://colab.research.google.com/github/mohiuddinsaumik/python_practice_24/blob/main/examOOP_1.ipynb\" target=\"_parent\"><img src=\"https://colab.research.google.com/assets/colab-badge.svg\" alt=\"Open In Colab\"/></a>"
      ]
    },
    {
      "cell_type": "code",
      "source": [
        "class Exam:\n",
        "    def __init__(self, marks):\n",
        "        self.total_marks = marks\n",
        "\n",
        "    def mcq(self):\n",
        "        number = int(input(\"Enter MCQ Marks: \"))\n",
        "        self.total_marks += number\n",
        "\n",
        "    def cq(self):\n",
        "        number = int(input(\"Enter CQ Marks: \"))\n",
        "        self.total_marks += number  # Use consistent attribute name 'total_marks'\n",
        "\n",
        "    def practical(self):\n",
        "        p_mark = int(input(\"Enter Practical Marks: \"))\n",
        "        self.total_marks += p_mark\n",
        "\n",
        "    def grade(self):\n",
        "      t_marks = self.total_marks\n",
        "      if 90 <= t_marks <= 100:\n",
        "        return \"A\"\n",
        "      elif 80 <= t_marks < 90:\n",
        "        return \"B\"\n",
        "      elif 70 <= t_marks < 80:\n",
        "        return \"C\"\n",
        "      elif 60 <= t_marks < 70:\n",
        "        return \"D\"\n",
        "      else:\n",
        "        return \"F\"\n",
        "\n",
        "\n",
        "\n",
        "\n",
        "# Example usage:\n",
        "exam_ins = Exam(0)\n",
        "exam_ins.cq()\n",
        "exam_ins.mcq()\n",
        "exam_ins.practical()\n",
        "\n",
        "print(\"Total Marks: \", exam_ins.total_marks)\n",
        "print(\"Grade : \",exam_ins.grade())\n"
      ],
      "metadata": {
        "colab": {
          "base_uri": "https://localhost:8080/"
        },
        "id": "Gr_Ey8K_4_vF",
        "outputId": "2c4fdd4d-6cc0-4085-9b4a-cf42a3ac4a1b"
      },
      "execution_count": 3,
      "outputs": [
        {
          "output_type": "stream",
          "name": "stdout",
          "text": [
            "Enter CQ Marks: 39\n",
            "Enter MCQ Marks: 22\n",
            "Enter Practical Marks: 23\n",
            "Total Marks:  84\n",
            "Grade :  B\n"
          ]
        }
      ]
    },
    {
      "cell_type": "code",
      "source": [],
      "metadata": {
        "id": "7ETujcJl4_qJ"
      },
      "execution_count": null,
      "outputs": []
    },
    {
      "cell_type": "code",
      "source": [],
      "metadata": {
        "id": "bT5AyX6O4_nD"
      },
      "execution_count": null,
      "outputs": []
    }
  ]
}