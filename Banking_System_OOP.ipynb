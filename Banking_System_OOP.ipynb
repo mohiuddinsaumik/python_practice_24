{
  "nbformat": 4,
  "nbformat_minor": 0,
  "metadata": {
    "colab": {
      "provenance": []
    },
    "kernelspec": {
      "name": "python3",
      "display_name": "Python 3"
    },
    "language_info": {
      "name": "python"
    }
  },
  "cells": [
    {
      "cell_type": "code",
      "execution_count": 15,
      "metadata": {
        "id": "waP5VFNNJnaW"
      },
      "outputs": [],
      "source": [
        "class Account:\n",
        "  def __init__(self,bal,acc):\n",
        "    self.balance = bal\n",
        "    self.account_no = acc\n",
        "\n",
        "  def get_balance(self):\n",
        "    return self.balance\n",
        "\n",
        "\n",
        "  def credit(self, amount):\n",
        "    self.balance += amount\n",
        "\n",
        "    print(\"BDT\",amount,\"was credited\")\n",
        "    print(\"Total Balance is \",self.get_balance() ,\"BDT.\")\n",
        "\n",
        "  def debit(self,amount):\n",
        "    self.balance -= amount\n",
        "\n",
        "    print(\"BDT\", amount ,\"was debited\")\n",
        "    print(\"Total Balance is \",self.get_balance() ,\"BDT\")"
      ]
    },
    {
      "cell_type": "code",
      "source": [
        "acc1 = Account(32000,234242110001)"
      ],
      "metadata": {
        "id": "EkDFk34kJxFP"
      },
      "execution_count": 16,
      "outputs": []
    },
    {
      "cell_type": "code",
      "source": [
        "acc1.debit(23000)"
      ],
      "metadata": {
        "colab": {
          "base_uri": "https://localhost:8080/"
        },
        "id": "VxX8Wy1uNaKV",
        "outputId": "9a4b367f-2cd5-481a-a17b-4fde55482bf7"
      },
      "execution_count": 17,
      "outputs": [
        {
          "output_type": "stream",
          "name": "stdout",
          "text": [
            "BDT 23000 was debited\n",
            "Total Balance is  9000 BDT\n"
          ]
        }
      ]
    },
    {
      "cell_type": "code",
      "source": [
        "acc1.credit(50000)"
      ],
      "metadata": {
        "colab": {
          "base_uri": "https://localhost:8080/"
        },
        "id": "b6_dSwTfN4Yg",
        "outputId": "509d75c5-fe7e-4776-a4df-5c250f680eb7"
      },
      "execution_count": 18,
      "outputs": [
        {
          "output_type": "stream",
          "name": "stdout",
          "text": [
            "BDT 50000 was credited\n",
            "Total Balance is  59000 BDT.\n"
          ]
        }
      ]
    },
    {
      "cell_type": "code",
      "source": [],
      "metadata": {
        "id": "7ZNVkf-5OiEF"
      },
      "execution_count": null,
      "outputs": []
    }
  ]
}